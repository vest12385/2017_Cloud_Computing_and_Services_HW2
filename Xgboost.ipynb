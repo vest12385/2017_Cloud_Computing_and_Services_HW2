{
 "cells": [
  {
   "cell_type": "code",
   "execution_count": 1,
   "metadata": {},
   "outputs": [
    {
     "name": "stderr",
     "output_type": "stream",
     "text": [
      "D:\\Anaconda2\\lib\\site-packages\\sklearn\\cross_validation.py:44: DeprecationWarning: This module was deprecated in version 0.18 in favor of the model_selection module into which all the refactored classes and functions are moved. Also note that the interface of the new CV iterators are different from that of this module. This module will be removed in 0.20.\n",
      "  \"This module will be removed in 0.20.\", DeprecationWarning)\n",
      "D:\\Anaconda2\\lib\\site-packages\\sklearn\\grid_search.py:43: DeprecationWarning: This module was deprecated in version 0.18 in favor of the model_selection module into which all the refactored classes and functions are moved. This module will be removed in 0.20.\n",
      "  DeprecationWarning)\n"
     ]
    }
   ],
   "source": [
    "import pandas as pd\n",
    "import numpy as np\n",
    "#import xgboost as xgb\n",
    "from xgboost.sklearn import XGBClassifier\n",
    "from sklearn.grid_search import GridSearchCV\n",
    "%matplotlib inline\n",
    "train = pd.read_csv('./LargeTrain.csv')\n",
    "train['Class'] = [ i - 1 for i in train['Class']]\n",
    "target = 'Class'\n",
    "predictors = [x for x in train.columns if x not in target]"
   ]
  },
  {
   "cell_type": "code",
   "execution_count": 2,
   "metadata": {},
   "outputs": [
    {
     "name": "stdout",
     "output_type": "stream",
     "text": [
      "Fitting 5 folds for each of 16 candidates, totalling 80 fits\n"
     ]
    },
    {
     "name": "stderr",
     "output_type": "stream",
     "text": [
      "[Parallel(n_jobs=4)]: Done  24 tasks      | elapsed: 20.7min\n",
      "[Parallel(n_jobs=4)]: Done  80 out of  80 | elapsed: 75.0min finished\n"
     ]
    },
    {
     "data": {
      "text/plain": [
       "([mean: 0.99678, std: 0.00082, params: {'max_depth': 3, 'min_child_weight': 1},\n",
       "  mean: 0.99696, std: 0.00090, params: {'max_depth': 3, 'min_child_weight': 3},\n",
       "  mean: 0.99678, std: 0.00105, params: {'max_depth': 3, 'min_child_weight': 5},\n",
       "  mean: 0.99604, std: 0.00147, params: {'max_depth': 3, 'min_child_weight': 7},\n",
       "  mean: 0.99696, std: 0.00062, params: {'max_depth': 5, 'min_child_weight': 1},\n",
       "  mean: 0.99669, std: 0.00098, params: {'max_depth': 5, 'min_child_weight': 3},\n",
       "  mean: 0.99641, std: 0.00118, params: {'max_depth': 5, 'min_child_weight': 5},\n",
       "  mean: 0.99623, std: 0.00118, params: {'max_depth': 5, 'min_child_weight': 7},\n",
       "  mean: 0.99669, std: 0.00098, params: {'max_depth': 7, 'min_child_weight': 1},\n",
       "  mean: 0.99669, std: 0.00121, params: {'max_depth': 7, 'min_child_weight': 3},\n",
       "  mean: 0.99660, std: 0.00122, params: {'max_depth': 7, 'min_child_weight': 5},\n",
       "  mean: 0.99623, std: 0.00118, params: {'max_depth': 7, 'min_child_weight': 7},\n",
       "  mean: 0.99660, std: 0.00080, params: {'max_depth': 9, 'min_child_weight': 1},\n",
       "  mean: 0.99641, std: 0.00128, params: {'max_depth': 9, 'min_child_weight': 3},\n",
       "  mean: 0.99632, std: 0.00105, params: {'max_depth': 9, 'min_child_weight': 5},\n",
       "  mean: 0.99632, std: 0.00120, params: {'max_depth': 9, 'min_child_weight': 7}],\n",
       " {'max_depth': 5, 'min_child_weight': 1},\n",
       " 0.9969638616936136)"
      ]
     },
     "execution_count": 2,
     "metadata": {},
     "output_type": "execute_result"
    }
   ],
   "source": [
    "param_test1 = { 'max_depth': [3, 5, 7, 9], 'min_child_weight':[1, 3, 5, 7]}\n",
    "gsearch1 = GridSearchCV(estimator = XGBClassifier( learning_rate =0.1, n_estimators=140, max_depth=5, min_child_weight=1, \n",
    "                                                  gamma=0, subsample=0.8, colsample_bytree=0.8, objective= 'multi:softprob',\n",
    "                                                  scale_pos_weight=1),\n",
    "                        param_grid = param_test1, scoring='accuracy',n_jobs=4,iid=False, cv=5, verbose=3)\n",
    "#gsearch1 = XGBClassifier( learning_rate =0.1, n_estimators=140, max_depth=5, min_child_weight=1,\n",
    "#                         gamma=0, subsample=0.8, colsample_bytree=0.8, objective= 'multi:softprob', \n",
    "#                         n_jobs=4, scale_pos_weight=1, random_state=27, num_class=9, silent=False)\n",
    "gsearch1.fit(train[predictors],train[target])\n",
    "gsearch1.grid_scores_, gsearch1.best_params_, gsearch1.best_score_"
   ]
  },
  {
   "cell_type": "code",
   "execution_count": 3,
   "metadata": {},
   "outputs": [
    {
     "name": "stdout",
     "output_type": "stream",
     "text": [
      "Fitting 5 folds for each of 25 candidates, totalling 125 fits\n"
     ]
    },
    {
     "name": "stderr",
     "output_type": "stream",
     "text": [
      "[Parallel(n_jobs=4)]: Done  24 tasks      | elapsed: 26.2min\n",
      "[Parallel(n_jobs=4)]: Done 125 out of 125 | elapsed: 139.3min finished\n"
     ]
    },
    {
     "data": {
      "text/plain": [
       "([mean: 0.99687, std: 0.00054, params: {'n_estimators': 100, 'gamma': 0.0},\n",
       "  mean: 0.99706, std: 0.00047, params: {'n_estimators': 120, 'gamma': 0.0},\n",
       "  mean: 0.99696, std: 0.00062, params: {'n_estimators': 140, 'gamma': 0.0},\n",
       "  mean: 0.99696, std: 0.00062, params: {'n_estimators': 160, 'gamma': 0.0},\n",
       "  mean: 0.99706, std: 0.00047, params: {'n_estimators': 180, 'gamma': 0.0},\n",
       "  mean: 0.99678, std: 0.00058, params: {'n_estimators': 100, 'gamma': 0.1},\n",
       "  mean: 0.99696, std: 0.00047, params: {'n_estimators': 120, 'gamma': 0.1},\n",
       "  mean: 0.99696, std: 0.00047, params: {'n_estimators': 140, 'gamma': 0.1},\n",
       "  mean: 0.99696, std: 0.00047, params: {'n_estimators': 160, 'gamma': 0.1},\n",
       "  mean: 0.99687, std: 0.00054, params: {'n_estimators': 180, 'gamma': 0.1},\n",
       "  mean: 0.99678, std: 0.00065, params: {'n_estimators': 100, 'gamma': 0.2},\n",
       "  mean: 0.99687, std: 0.00061, params: {'n_estimators': 120, 'gamma': 0.2},\n",
       "  mean: 0.99687, std: 0.00061, params: {'n_estimators': 140, 'gamma': 0.2},\n",
       "  mean: 0.99687, std: 0.00061, params: {'n_estimators': 160, 'gamma': 0.2},\n",
       "  mean: 0.99696, std: 0.00062, params: {'n_estimators': 180, 'gamma': 0.2},\n",
       "  mean: 0.99687, std: 0.00054, params: {'n_estimators': 100, 'gamma': 0.3},\n",
       "  mean: 0.99678, std: 0.00065, params: {'n_estimators': 120, 'gamma': 0.3},\n",
       "  mean: 0.99678, std: 0.00065, params: {'n_estimators': 140, 'gamma': 0.3},\n",
       "  mean: 0.99678, std: 0.00065, params: {'n_estimators': 160, 'gamma': 0.3},\n",
       "  mean: 0.99678, std: 0.00065, params: {'n_estimators': 180, 'gamma': 0.3},\n",
       "  mean: 0.99678, std: 0.00065, params: {'n_estimators': 100, 'gamma': 0.4},\n",
       "  mean: 0.99669, std: 0.00074, params: {'n_estimators': 120, 'gamma': 0.4},\n",
       "  mean: 0.99669, std: 0.00074, params: {'n_estimators': 140, 'gamma': 0.4},\n",
       "  mean: 0.99669, std: 0.00074, params: {'n_estimators': 160, 'gamma': 0.4},\n",
       "  mean: 0.99669, std: 0.00074, params: {'n_estimators': 180, 'gamma': 0.4}],\n",
       " {'gamma': 0.0, 'n_estimators': 120},\n",
       " 0.9970558580137607)"
      ]
     },
     "execution_count": 3,
     "metadata": {},
     "output_type": "execute_result"
    }
   ],
   "source": [
    "param_test2 = { 'gamma':[i/10.0 for i in range(0,5)], 'n_estimators':range(100, 200, 20) }\n",
    "gsearch2 = GridSearchCV(estimator = XGBClassifier( learning_rate =0.1, n_estimators=150, max_depth=5, min_child_weight=1, \n",
    "                                                  gamma=0, subsample=0.8, colsample_bytree=0.8, objective= 'multi:softprob',\n",
    "                                                  scale_pos_weight=1),\n",
    "                        param_grid = param_test2, scoring='accuracy',n_jobs=4,iid=False, cv=5, verbose=3)\n",
    "#gsearch1 = XGBClassifier( learning_rate =0.1, n_estimators=140, max_depth=5, min_child_weight=1,\n",
    "#                         gamma=0, subsample=0.8, colsample_bytree=0.8, objective= 'multi:softprob', \n",
    "#                         n_jobs=4, scale_pos_weight=1, random_state=27, num_class=9, silent=False)\n",
    "gsearch2.fit(train[predictors],train[target])\n",
    "gsearch2.grid_scores_, gsearch2.best_params_, gsearch2.best_score_"
   ]
  },
  {
   "cell_type": "code",
   "execution_count": 10,
   "metadata": {},
   "outputs": [
    {
     "data": {
      "text/plain": [
       "<matplotlib.text.Text at 0x16a4f0b8>"
      ]
     },
     "execution_count": 10,
     "metadata": {},
     "output_type": "execute_result"
    },
    {
     "data": {
      "image/png": "[encoded data removed]",
      "text/plain": [
       "<matplotlib.figure.Figure at 0x1599c3c8>"
      ]
     },
     "metadata": {},
     "output_type": "display_data"
    }
   ],
   "source": [
    "import matplotlib.pyplot as plt\n",
    "import seaborn as sb\n",
    "grid_visualization1 = []\n",
    "\n",
    "for grid_pair in gsearch1.grid_scores_:\n",
    "    grid_visualization1.append(grid_pair.mean_validation_score)\n",
    "    \n",
    "grid_visualization1 = np.array(grid_visualization1)\n",
    "grid_visualization1.shape = (4, 4)\n",
    "sb.heatmap(grid_visualization1, cmap='Blues')\n",
    "plt.xticks(np.arange(4) + 0.5, gsearch1.param_grid['max_depth'])\n",
    "plt.yticks(np.arange(4) + 0.5, gsearch1.param_grid['min_child_weight'][::-1])\n",
    "plt.xlabel('max_depth')\n",
    "plt.ylabel('min_child_weight')\n"
   ]
  },
  {
   "cell_type": "code",
   "execution_count": 13,
   "metadata": {},
   "outputs": [
    {
     "data": {
      "text/plain": [
       "<matplotlib.text.Text at 0x161a8470>"
      ]
     },
     "execution_count": 13,
     "metadata": {},
     "output_type": "execute_result"
    },
    {
     "data": {
      "image/png": "[encoded data removed]",
      "text/plain": [
       "<matplotlib.figure.Figure at 0x153462e8>"
      ]
     },
     "metadata": {},
     "output_type": "display_data"
    }
   ],
   "source": [
    "grid_visualization2 = []\n",
    "for grid_pair1 in gsearch2.grid_scores_:\n",
    "    grid_visualization2.append(grid_pair1.mean_validation_score)\n",
    "grid_visualization2 = np.array(grid_visualization2)\n",
    "grid_visualization2.shape = (5, 5)\n",
    "sb.heatmap(grid_visualization2, cmap='Blues')\n",
    "plt.xticks(np.arange(5) + 0.5, gsearch2.param_grid['n_estimators'])\n",
    "plt.yticks(np.arange(5) + 0.5, gsearch2.param_grid['gamma'][::-1])\n",
    "plt.xlabel('n_estimators')\n",
    "plt.ylabel('gamma')"
   ]
  },
  {
   "cell_type": "code",
   "execution_count": null,
   "metadata": {
    "collapsed": true
   },
   "outputs": [],
   "source": []
  }
 ],
 "metadata": {
  "kernelspec": {
   "display_name": "Python 2",
   "language": "python",
   "name": "python2"
  },
  "language_info": {
   "codemirror_mode": {
    "name": "ipython",
    "version": 2
   },
   "file_extension": ".py",
   "mimetype": "text/x-python",
   "name": "python",
   "nbconvert_exporter": "python",
   "pygments_lexer": "ipython2",
   "version": "2.7.13"
  }
 },
 "nbformat": 4,
 "nbformat_minor": 2
}
