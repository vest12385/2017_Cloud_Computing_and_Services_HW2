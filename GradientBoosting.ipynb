{
 "cells": [
  {
   "cell_type": "code",
   "execution_count": 1,
   "metadata": {},
   "outputs": [
    {
     "name": "stderr",
     "output_type": "stream",
     "text": [
      "D:\\Anaconda2\\lib\\site-packages\\sklearn\\cross_validation.py:44: DeprecationWarning: This module was deprecated in version 0.18 in favor of the model_selection module into which all the refactored classes and functions are moved. Also note that the interface of the new CV iterators are different from that of this module. This module will be removed in 0.20.\n",
      "  \"This module will be removed in 0.20.\", DeprecationWarning)\n",
      "D:\\Anaconda2\\lib\\site-packages\\sklearn\\grid_search.py:43: DeprecationWarning: This module was deprecated in version 0.18 in favor of the model_selection module into which all the refactored classes and functions are moved. This module will be removed in 0.20.\n",
      "  DeprecationWarning)\n"
     ]
    }
   ],
   "source": [
    "import pandas as pd\n",
    "import numpy as np\n",
    "from sklearn.ensemble import GradientBoostingClassifier\n",
    "from sklearn.grid_search import GridSearchCV\n",
    "train = pd.read_csv('./LargeTrain.csv')\n",
    "train['Class'] = [ i - 1 for i in train['Class']]\n",
    "target = 'Class'\n",
    "predictors = [x for x in train.columns if x not in target]"
   ]
  },
  {
   "cell_type": "code",
   "execution_count": 2,
   "metadata": {},
   "outputs": [
    {
     "name": "stdout",
     "output_type": "stream",
     "text": [
      "Fitting 5 folds for each of 16 candidates, totalling 80 fits\n"
     ]
    },
    {
     "name": "stderr",
     "output_type": "stream",
     "text": [
      "[Parallel(n_jobs=4)]: Done  24 tasks      | elapsed:  1.7min\n",
      "[Parallel(n_jobs=4)]: Done  80 out of  80 | elapsed:  9.0min finished\n"
     ]
    },
    {
     "data": {
      "text/plain": [
       "([mean: 0.97930, std: 0.00226, params: {'min_samples_split': 200, 'max_depth': 3},\n",
       "  mean: 0.97727, std: 0.00170, params: {'min_samples_split': 400, 'max_depth': 3},\n",
       "  mean: 0.97488, std: 0.00171, params: {'min_samples_split': 600, 'max_depth': 3},\n",
       "  mean: 0.97359, std: 0.00219, params: {'min_samples_split': 800, 'max_depth': 3},\n",
       "  mean: 0.98399, std: 0.00184, params: {'min_samples_split': 200, 'max_depth': 5},\n",
       "  mean: 0.98169, std: 0.00179, params: {'min_samples_split': 400, 'max_depth': 5},\n",
       "  mean: 0.97930, std: 0.00122, params: {'min_samples_split': 600, 'max_depth': 5},\n",
       "  mean: 0.97884, std: 0.00083, params: {'min_samples_split': 800, 'max_depth': 5},\n",
       "  mean: 0.98564, std: 0.00221, params: {'min_samples_split': 200, 'max_depth': 7},\n",
       "  mean: 0.98261, std: 0.00156, params: {'min_samples_split': 400, 'max_depth': 7},\n",
       "  mean: 0.98058, std: 0.00156, params: {'min_samples_split': 600, 'max_depth': 7},\n",
       "  mean: 0.97893, std: 0.00122, params: {'min_samples_split': 800, 'max_depth': 7},\n",
       "  mean: 0.98583, std: 0.00207, params: {'min_samples_split': 200, 'max_depth': 9},\n",
       "  mean: 0.98390, std: 0.00190, params: {'min_samples_split': 400, 'max_depth': 9},\n",
       "  mean: 0.98095, std: 0.00104, params: {'min_samples_split': 600, 'max_depth': 9},\n",
       "  mean: 0.98012, std: 0.00054, params: {'min_samples_split': 800, 'max_depth': 9}],\n",
       " {'max_depth': 9, 'min_samples_split': 200},\n",
       " 0.9858285583178562)"
      ]
     },
     "execution_count": 2,
     "metadata": {},
     "output_type": "execute_result"
    }
   ],
   "source": [
    "param_test1 = {'max_depth':[3, 5, 7, 9], 'min_samples_split':[200, 400, 600, 800]}\n",
    "gsearch1 = GridSearchCV(estimator = GradientBoostingClassifier(learning_rate=0.01, min_samples_split=500,\n",
    "                                                               min_samples_leaf=50, max_depth=8, max_features='sqrt',\n",
    "                                                               subsample=0.8, random_state=10), \n",
    "                        param_grid = param_test1, scoring='accuracy', n_jobs=4, iid=False, cv=5, verbose=3)\n",
    "gsearch1.fit(train[predictors],train[target])\n",
    "gsearch1.grid_scores_, gsearch1.best_params_, gsearch1.best_score_"
   ]
  },
  {
   "cell_type": "code",
   "execution_count": 4,
   "metadata": {},
   "outputs": [
    {
     "name": "stdout",
     "output_type": "stream",
     "text": [
      "Fitting 5 folds for each of 36 candidates, totalling 180 fits\n"
     ]
    },
    {
     "name": "stderr",
     "output_type": "stream",
     "text": [
      "[Parallel(n_jobs=4)]: Done  24 tasks      | elapsed:  6.2min\n",
      "[Parallel(n_jobs=4)]: Done 120 tasks      | elapsed: 33.0min\n",
      "[Parallel(n_jobs=4)]: Done 180 out of 180 | elapsed: 48.6min finished\n"
     ]
    },
    {
     "data": {
      "text/plain": [
       "([mean: 0.98905, std: 0.00168, params: {'n_estimators': 100, 'min_samples_leaf': 20},\n",
       "  mean: 0.98997, std: 0.00178, params: {'n_estimators': 120, 'min_samples_leaf': 20},\n",
       "  mean: 0.99034, std: 0.00199, params: {'n_estimators': 140, 'min_samples_leaf': 20},\n",
       "  mean: 0.99080, std: 0.00172, params: {'n_estimators': 160, 'min_samples_leaf': 20},\n",
       "  mean: 0.99126, std: 0.00167, params: {'n_estimators': 180, 'min_samples_leaf': 20},\n",
       "  mean: 0.99172, std: 0.00154, params: {'n_estimators': 200, 'min_samples_leaf': 20},\n",
       "  mean: 0.98767, std: 0.00257, params: {'n_estimators': 100, 'min_samples_leaf': 30},\n",
       "  mean: 0.98905, std: 0.00147, params: {'n_estimators': 120, 'min_samples_leaf': 30},\n",
       "  mean: 0.98997, std: 0.00158, params: {'n_estimators': 140, 'min_samples_leaf': 30},\n",
       "  mean: 0.99006, std: 0.00142, params: {'n_estimators': 160, 'min_samples_leaf': 30},\n",
       "  mean: 0.99080, std: 0.00123, params: {'n_estimators': 180, 'min_samples_leaf': 30},\n",
       "  mean: 0.99117, std: 0.00121, params: {'n_estimators': 200, 'min_samples_leaf': 30},\n",
       "  mean: 0.98675, std: 0.00191, params: {'n_estimators': 100, 'min_samples_leaf': 40},\n",
       "  mean: 0.98795, std: 0.00132, params: {'n_estimators': 120, 'min_samples_leaf': 40},\n",
       "  mean: 0.98877, std: 0.00151, params: {'n_estimators': 140, 'min_samples_leaf': 40},\n",
       "  mean: 0.98933, std: 0.00129, params: {'n_estimators': 160, 'min_samples_leaf': 40},\n",
       "  mean: 0.98979, std: 0.00147, params: {'n_estimators': 180, 'min_samples_leaf': 40},\n",
       "  mean: 0.99034, std: 0.00127, params: {'n_estimators': 200, 'min_samples_leaf': 40},\n",
       "  mean: 0.98583, std: 0.00207, params: {'n_estimators': 100, 'min_samples_leaf': 50},\n",
       "  mean: 0.98629, std: 0.00221, params: {'n_estimators': 120, 'min_samples_leaf': 50},\n",
       "  mean: 0.98749, std: 0.00229, params: {'n_estimators': 140, 'min_samples_leaf': 50},\n",
       "  mean: 0.98850, std: 0.00154, params: {'n_estimators': 160, 'min_samples_leaf': 50},\n",
       "  mean: 0.98923, std: 0.00115, params: {'n_estimators': 180, 'min_samples_leaf': 50},\n",
       "  mean: 0.98988, std: 0.00109, params: {'n_estimators': 200, 'min_samples_leaf': 50},\n",
       "  mean: 0.98527, std: 0.00282, params: {'n_estimators': 100, 'min_samples_leaf': 60},\n",
       "  mean: 0.98666, std: 0.00222, params: {'n_estimators': 120, 'min_samples_leaf': 60},\n",
       "  mean: 0.98767, std: 0.00193, params: {'n_estimators': 140, 'min_samples_leaf': 60},\n",
       "  mean: 0.98813, std: 0.00176, params: {'n_estimators': 160, 'min_samples_leaf': 60},\n",
       "  mean: 0.98850, std: 0.00187, params: {'n_estimators': 180, 'min_samples_leaf': 60},\n",
       "  mean: 0.98960, std: 0.00112, params: {'n_estimators': 200, 'min_samples_leaf': 60},\n",
       "  mean: 0.98537, std: 0.00279, params: {'n_estimators': 100, 'min_samples_leaf': 70},\n",
       "  mean: 0.98610, std: 0.00231, params: {'n_estimators': 120, 'min_samples_leaf': 70},\n",
       "  mean: 0.98712, std: 0.00160, params: {'n_estimators': 140, 'min_samples_leaf': 70},\n",
       "  mean: 0.98795, std: 0.00174, params: {'n_estimators': 160, 'min_samples_leaf': 70},\n",
       "  mean: 0.98850, std: 0.00140, params: {'n_estimators': 180, 'min_samples_leaf': 70},\n",
       "  mean: 0.98905, std: 0.00098, params: {'n_estimators': 200, 'min_samples_leaf': 70}],\n",
       " {'min_samples_leaf': 20, 'n_estimators': 200},\n",
       " 0.9917198071865428)"
      ]
     },
     "execution_count": 4,
     "metadata": {},
     "output_type": "execute_result"
    }
   ],
   "source": [
    "param_test2 = {'n_estimators':[100, 120, 140, 160, 180, 200], 'min_samples_leaf':[20, 30, 40, 50, 60, 70] }\n",
    "gsearch2 = GridSearchCV(estimator = GradientBoostingClassifier(learning_rate=0.01, min_samples_split=200,\n",
    "                                                               min_samples_leaf=50, max_depth=9, max_features='sqrt',\n",
    "                                                               subsample=0.8, random_state=10), \n",
    "                        param_grid = param_test2, scoring='accuracy', n_jobs=4, iid=False, cv=5, verbose=3)\n",
    "gsearch2.fit(train[predictors],train[target])\n",
    "gsearch2.grid_scores_, gsearch2.best_params_, gsearch2.best_score_"
   ]
  },
  {
   "cell_type": "code",
   "execution_count": 9,
   "metadata": {},
   "outputs": [
    {
     "data": {
      "text/plain": [
       "<matplotlib.text.Text at 0x13b9b8d0>"
      ]
     },
     "execution_count": 9,
     "metadata": {},
     "output_type": "execute_result"
    },
    {
     "data": {
      "image/png": "[encoded data removed]",
      "text/plain": [
       "<matplotlib.figure.Figure at 0xae93390>"
      ]
     },
     "metadata": {},
     "output_type": "display_data"
    }
   ],
   "source": [
    "import matplotlib.pyplot as plt\n",
    "import seaborn as sb\n",
    "%matplotlib inline\n",
    "grid_visualization1 = []\n",
    "\n",
    "for grid_pair in gsearch1.grid_scores_:\n",
    "    grid_visualization1.append(grid_pair.mean_validation_score)\n",
    "    \n",
    "grid_visualization1 = np.array(grid_visualization1)\n",
    "grid_visualization1.shape = (4, 4)\n",
    "sb.heatmap(grid_visualization1, cmap='Blues')\n",
    "plt.xticks(np.arange(4) + 0.5, gsearch1.param_grid['min_samples_split'])\n",
    "plt.yticks(np.arange(4) + 0.5, gsearch1.param_grid['max_depth'][::-1])\n",
    "plt.xlabel('min_samples_split')\n",
    "plt.ylabel('max_depth')"
   ]
  },
  {
   "cell_type": "code",
   "execution_count": 8,
   "metadata": {},
   "outputs": [
    {
     "data": {
      "text/plain": [
       "<matplotlib.text.Text at 0x11b6efd0>"
      ]
     },
     "execution_count": 8,
     "metadata": {},
     "output_type": "execute_result"
    },
    {
     "data": {
      "image/png": "[encoded data removed]",
      "text/plain": [
       "<matplotlib.figure.Figure at 0x128bb828>"
      ]
     },
     "metadata": {},
     "output_type": "display_data"
    }
   ],
   "source": [
    "grid_visualization2 = []\n",
    "for grid_pair in gsearch2.grid_scores_:\n",
    "    grid_visualization2.append(grid_pair.mean_validation_score)\n",
    "grid_visualization2 = np.array(grid_visualization2)\n",
    "grid_visualization2.shape = (6, 6)\n",
    "sb.heatmap(grid_visualization2, cmap='Blues')\n",
    "plt.xticks(np.arange(6) + 0.5, gsearch2.param_grid['n_estimators'])\n",
    "plt.yticks(np.arange(6) + 0.5, gsearch2.param_grid['min_samples_leaf'][::-1])\n",
    "plt.xlabel('n_estimators')\n",
    "plt.ylabel('n_samples_leaf')"
   ]
  },
  {
   "cell_type": "code",
   "execution_count": null,
   "metadata": {
    "collapsed": true
   },
   "outputs": [],
   "source": []
  }
 ],
 "metadata": {
  "kernelspec": {
   "display_name": "Python 2",
   "language": "python",
   "name": "python2"
  },
  "language_info": {
   "codemirror_mode": {
    "name": "ipython",
    "version": 2
   },
   "file_extension": ".py",
   "mimetype": "text/x-python",
   "name": "python",
   "nbconvert_exporter": "python",
   "pygments_lexer": "ipython2",
   "version": "2.7.13"
  }
 },
 "nbformat": 4,
 "nbformat_minor": 2
}
